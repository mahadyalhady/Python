{
  "nbformat": 4,
  "nbformat_minor": 0,
  "metadata": {
    "colab": {
      "name": "B1_CT_4_18101072.ipynb",
      "provenance": [],
      "collapsed_sections": [],
      "authorship_tag": "ABX9TyMp1Dh4DrfL4QrVf2UnWhQ5",
      "include_colab_link": true
    },
    "kernelspec": {
      "name": "python3",
      "display_name": "Python 3"
    }
  },
  "cells": [
    {
      "cell_type": "markdown",
      "metadata": {
        "id": "view-in-github",
        "colab_type": "text"
      },
      "source": [
        "<a href=\"https://colab.research.google.com/github/mahadyalhady/Python/blob/master/B1_CT_4_18101072.ipynb\" target=\"_parent\"><img src=\"https://colab.research.google.com/assets/colab-badge.svg\" alt=\"Open In Colab\"/></a>"
      ]
    },
    {
      "cell_type": "code",
      "metadata": {
        "id": "exHXU0amF97_",
        "colab_type": "code",
        "colab": {
          "base_uri": "https://localhost:8080/",
          "height": 67
        },
        "outputId": "78d66488-2ff0-4f6d-f795-3986dd30315a"
      },
      "source": [
        "#1\n",
        "class Employee:\n",
        "  \n",
        "  id=0\n",
        "  name=''\n",
        "  department=''\n",
        "  position=''\n",
        "  manager=''\n",
        "  level=0\n",
        "\n",
        "  def __init__(self, id, name, department, position, manager, level):\n",
        "    self.id = id\n",
        "    self.name = name\n",
        "    self.department = department\n",
        "    self.position = position\n",
        "    self. manager = manager\n",
        "    self.level = level\n",
        "\n",
        "E1 = Employee(1, 'David', 'Manager', 'IT', 'NULL', 1)\n",
        "E2 = Employee(4, 'Julia', 'Manager', 'HR', 'NULL', 1)\n",
        "E3 = Employee(8, 'Sophie', 'Manager', 'Marketing', 'NULL', 1)\n",
        "\n",
        "print(E1.id)\n",
        "print(E2.id)\n",
        "print(E3.id)\n",
        "\n"
      ],
      "execution_count": null,
      "outputs": [
        {
          "output_type": "stream",
          "text": [
            "1\n",
            "4\n",
            "8\n"
          ],
          "name": "stdout"
        }
      ]
    },
    {
      "cell_type": "code",
      "metadata": {
        "id": "2a88dS4gbI68",
        "colab_type": "code",
        "colab": {}
      },
      "source": [
        "#2\n",
        "class BankAcc:\n",
        "\n",
        "  def __init__(self, name, acc_number, current_balance):\n",
        "    self.name=name\n",
        "    self.acc_number=acc_number\n",
        "    self.current_balance=current_balance\n",
        "    print('new acc creation complete!')\n",
        "\n",
        "  def Deposit(self,amount):\n",
        "    self.current_balance+=amount\n",
        "    print('deposit compleate')\n",
        "\n",
        "  def Withdraw(self,amount):\n",
        "    if amount<=self.current_balance:\n",
        "      self.current_balance-=amount\n",
        "    print('withdraw complete')\n",
        "   \n",
        "\n",
        "  def Show_balance(self):\n",
        "    print('Your balance:',self.current_balance)\n"
      ],
      "execution_count": null,
      "outputs": []
    },
    {
      "cell_type": "code",
      "metadata": {
        "id": "-GjqYha8Uz0B",
        "colab_type": "code",
        "colab": {
          "base_uri": "https://localhost:8080/",
          "height": 84
        },
        "outputId": "e134061b-e625-41e4-e2e9-98fc1bea2c7d"
      },
      "source": [
        "user1=BankAcc('boss',111,1111)\n",
        "user1.Show_balance()\n",
        "user1.Withdraw(1222)\n",
        "user1.Show_balance()"
      ],
      "execution_count": null,
      "outputs": [
        {
          "output_type": "stream",
          "text": [
            "new acc creation complete!\n",
            "Your balance: 1111\n",
            "withdraw complete\n",
            "Your balance: 1111\n"
          ],
          "name": "stdout"
        }
      ]
    },
    {
      "cell_type": "code",
      "metadata": {
        "id": "EGeBa437bGaP",
        "colab_type": "code",
        "colab": {
          "base_uri": "https://localhost:8080/",
          "height": 50
        },
        "outputId": "960f7a19-1e38-4954-8c76-e7232f35127c"
      },
      "source": [
        "#3\n",
        "import math\n",
        "\n",
        "def func(n):\n",
        "  sum=0\n",
        "  for i in range(1,n+1):\n",
        "    sum+=math.log(i)\n",
        "  return sum\n",
        "\n",
        "n=int(input('n='))\n",
        "print('sum=',func(n))"
      ],
      "execution_count": null,
      "outputs": [
        {
          "output_type": "stream",
          "text": [
            "n=5\n",
            "sum= 4.787491742782046\n"
          ],
          "name": "stdout"
        }
      ]
    }
  ]
}