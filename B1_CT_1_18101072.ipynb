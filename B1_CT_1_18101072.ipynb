{
  "nbformat": 4,
  "nbformat_minor": 0,
  "metadata": {
    "colab": {
      "name": "B1_CT_1_18101072.ipynb",
      "provenance": [],
      "collapsed_sections": [],
      "authorship_tag": "ABX9TyMQgbUI8akkCzVlayE+enMG",
      "include_colab_link": true
    },
    "kernelspec": {
      "name": "python3",
      "display_name": "Python 3"
    }
  },
  "cells": [
    {
      "cell_type": "markdown",
      "metadata": {
        "id": "view-in-github",
        "colab_type": "text"
      },
      "source": [
        "<a href=\"https://colab.research.google.com/github/mahadyalhady/Python/blob/master/B1_CT_1_18101072.ipynb\" target=\"_parent\"><img src=\"https://colab.research.google.com/assets/colab-badge.svg\" alt=\"Open In Colab\"/></a>"
      ]
    },
    {
      "cell_type": "code",
      "metadata": {
        "id": "IQpA7m9GGR9l",
        "colab_type": "code",
        "colab": {
          "base_uri": "https://localhost:8080/",
          "height": 50
        },
        "outputId": "63e77b88-7282-4020-b183-e6416edd975d"
      },
      "source": [
        "#1\n",
        "r=float(input('r='))\n",
        "p=2*3.1416*r\n",
        "print('Parameter:',p)"
      ],
      "execution_count": null,
      "outputs": [
        {
          "output_type": "stream",
          "text": [
            "r=10\n",
            "Parameter: 62.832\n"
          ],
          "name": "stdout"
        }
      ]
    },
    {
      "cell_type": "code",
      "metadata": {
        "id": "H96-0_ORMBNs",
        "colab_type": "code",
        "colab": {
          "base_uri": "https://localhost:8080/",
          "height": 118
        },
        "outputId": "d04a9212-3152-4262-a8b4-fc14ce9f374a"
      },
      "source": [
        "#2\n",
        "a=float(input('a='))\n",
        "b=float(input('b='))\n",
        "c=float(input('c='))\n",
        "d=float(input('d='))\n",
        "e=float(input('e='))\n",
        "avg=((a+b+c+d+e)/5)\n",
        "print('average:',avg)\n"
      ],
      "execution_count": null,
      "outputs": [
        {
          "output_type": "stream",
          "text": [
            "a=10\n",
            "b=20\n",
            "c=30\n",
            "d=40\n",
            "e=50\n",
            "average: 30.0\n"
          ],
          "name": "stdout"
        }
      ]
    },
    {
      "cell_type": "code",
      "metadata": {
        "id": "i-qi6wQrMu7P",
        "colab_type": "code",
        "colab": {
          "base_uri": "https://localhost:8080/",
          "height": 84
        },
        "outputId": "104f7ff1-912a-4fd1-c623-1669cbde596f"
      },
      "source": [
        "#3\n",
        "P=float(input('P='))\n",
        "R=float(input('R='))\n",
        "T=float(input('T='))\n",
        "i=((P*T*R)/100)\n",
        "print('Output:',i)"
      ],
      "execution_count": null,
      "outputs": [
        {
          "output_type": "stream",
          "text": [
            "P=10000\n",
            "R=5\n",
            "T=5\n",
            "Output: 2500.0\n"
          ],
          "name": "stdout"
        }
      ]
    }
  ]
}