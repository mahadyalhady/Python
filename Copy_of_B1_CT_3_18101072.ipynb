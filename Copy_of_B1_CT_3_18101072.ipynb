{
  "nbformat": 4,
  "nbformat_minor": 0,
  "metadata": {
    "colab": {
      "name": "Copy of B1_CT_3_18101072.ipynb",
      "provenance": [],
      "authorship_tag": "ABX9TyPIQl6eFUGzR0jQQFL6E0ML",
      "include_colab_link": true
    },
    "kernelspec": {
      "name": "python3",
      "display_name": "Python 3"
    }
  },
  "cells": [
    {
      "cell_type": "markdown",
      "metadata": {
        "id": "view-in-github",
        "colab_type": "text"
      },
      "source": [
        "<a href=\"https://colab.research.google.com/github/mahadyalhady/Python/blob/master/Copy_of_B1_CT_3_18101072.ipynb\" target=\"_parent\"><img src=\"https://colab.research.google.com/assets/colab-badge.svg\" alt=\"Open In Colab\"/></a>"
      ]
    },
    {
      "cell_type": "code",
      "metadata": {
        "id": "xAkDrbIDG8uF",
        "colab_type": "code",
        "colab": {
          "base_uri": "https://localhost:8080/",
          "height": 84
        },
        "outputId": "8b64bc01-9509-4689-8649-ca2e271b83ca"
      },
      "source": [
        "#1\n",
        "n=int(input())\n",
        "sum=0\n",
        "a=1\n",
        "for i in range(1,n+1):\n",
        "  if i==n:\n",
        "    print(a)\n",
        "  else:\n",
        "    sum=sum+a\n",
        "    print(a,'+',end=' ')\n",
        "    a+=2\n",
        "\n",
        "print('\\nSum=',sum)"
      ],
      "execution_count": null,
      "outputs": [
        {
          "output_type": "stream",
          "text": [
            "10\n",
            "1 + 3 + 5 + 7 + 9 + 11 + 13 + 15 + 17 + 19\n",
            "\n",
            "Sum= 81\n"
          ],
          "name": "stdout"
        }
      ]
    },
    {
      "cell_type": "code",
      "metadata": {
        "id": "EUlWMdZbipIU",
        "colab_type": "code",
        "colab": {}
      },
      "source": [
        "#2\n",
        "s1={'id':1,\n",
        "    'first name':'Peter',\n",
        "    'last name':'Lee',\n",
        "    'email':'plee@university.edu',\n",
        "    'year of birth':1992\n",
        "\n",
        "    \n",
        "}\n",
        "\n",
        "s2={'id':2,\n",
        "    'first name':'jonathan',\n",
        "    'last name':'Edward',\n",
        "    'email':'jedwards@university.edu',\n",
        "    'year of birth':1994\n",
        "\n",
        "    \n",
        "}\n",
        "\n",
        "s3={'id':3,\n",
        "    'first name':'Marilyn',\n",
        "    'last name':'Johnson',\n",
        "    'email':'mjohnson@university.edu',\n",
        "    'year of birth':1993\n",
        "\n",
        "    \n",
        "}\n",
        "\n",
        "s4={'id':4,\n",
        "    'first name':'Joe',\n",
        "    'last name':'Kim',\n",
        "    'email':'jkim@university.edu',\n",
        "    'year of birth':1992\n",
        "\n",
        "    \n",
        "}\n",
        "\n"
      ],
      "execution_count": null,
      "outputs": []
    },
    {
      "cell_type": "code",
      "metadata": {
        "id": "XBEW1tW5miU2",
        "colab_type": "code",
        "colab": {
          "base_uri": "https://localhost:8080/",
          "height": 84
        },
        "outputId": "e7231763-9126-4632-f974-90d732948cc6"
      },
      "source": [
        "student={\n",
        "    1:s1,\n",
        "    2:s2,\n",
        "    3:s3,\n",
        "    4:s4\n",
        "}\n",
        "\n",
        "for i in student:\n",
        "  print(student[i]['first name'])"
      ],
      "execution_count": null,
      "outputs": [
        {
          "output_type": "stream",
          "text": [
            "Peter\n",
            "jonathan\n",
            "Marilyn\n",
            "Joe\n"
          ],
          "name": "stdout"
        }
      ]
    },
    {
      "cell_type": "code",
      "metadata": {
        "id": "hp0EBGVp401h",
        "colab_type": "code",
        "colab": {
          "base_uri": "https://localhost:8080/",
          "height": 84
        },
        "outputId": "be519319-95d0-438d-867e-11484a8539e1"
      },
      "source": [
        "student=[s1,s2,s3,s4]\n",
        "for i in student:\n",
        "  print(i['first name'])"
      ],
      "execution_count": null,
      "outputs": [
        {
          "output_type": "stream",
          "text": [
            "Peter\n",
            "jonathan\n",
            "Marilyn\n",
            "Joe\n"
          ],
          "name": "stdout"
        }
      ]
    }
  ]
}