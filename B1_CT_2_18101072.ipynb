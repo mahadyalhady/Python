{
  "nbformat": 4,
  "nbformat_minor": 0,
  "metadata": {
    "colab": {
      "name": "B1_CT_2_18101072.ipynb",
      "provenance": [],
      "collapsed_sections": [],
      "authorship_tag": "ABX9TyNvXt9Uv2QgOsB4ZeikaZmd",
      "include_colab_link": true
    },
    "kernelspec": {
      "name": "python3",
      "display_name": "Python 3"
    }
  },
  "cells": [
    {
      "cell_type": "markdown",
      "metadata": {
        "id": "view-in-github",
        "colab_type": "text"
      },
      "source": [
        "<a href=\"https://colab.research.google.com/github/mahadyalhady/Python/blob/master/B1_CT_2_18101072.ipynb\" target=\"_parent\"><img src=\"https://colab.research.google.com/assets/colab-badge.svg\" alt=\"Open In Colab\"/></a>"
      ]
    },
    {
      "cell_type": "code",
      "metadata": {
        "id": "oJF9U4YQDui_",
        "colab_type": "code",
        "colab": {
          "base_uri": "https://localhost:8080/",
          "height": 84
        },
        "outputId": "924cc220-16fa-4a92-d2fc-4dbc43a7fde2"
      },
      "source": [
        "#1\n",
        "a=int(input())\n",
        "b=int(input())\n",
        "c=int(input())\n",
        "\n",
        "if a<=b:\n",
        "  if a<c:\n",
        "    x=a\n",
        "  else:\n",
        "    x=c\n",
        "elif b<a:\n",
        "  if b<c:\n",
        "    x=b\n",
        "  else:\n",
        "    x=c\n",
        "print('output:',x)\n"
      ],
      "execution_count": null,
      "outputs": [
        {
          "output_type": "stream",
          "text": [
            "10\n",
            "20\n",
            "30\n",
            "output: 10\n"
          ],
          "name": "stdout"
        }
      ]
    },
    {
      "cell_type": "code",
      "metadata": {
        "id": "VFhPJjjtUJ0i",
        "colab_type": "code",
        "colab": {
          "base_uri": "https://localhost:8080/",
          "height": 50
        },
        "outputId": "8ad1fa7c-f4b3-405a-d8fa-632ac5a41572"
      },
      "source": [
        "#2\n",
        "a=float(input('Input:'))\n",
        "\n",
        "if a>=90  and a<=100:\n",
        "  print('Output: A+')\n",
        "elif a>=80  and a<=89:\n",
        "  print('Output: A')\n",
        "elif a>=70  and a<=79:\n",
        "  print('Output: A-')\n",
        "elif a>=60  and a<=69:\n",
        "  print('Output: B')\n",
        "elif a>=50  and a<=59:\n",
        "  print('Output: C')\n",
        "elif a>=40  and a<=49:\n",
        "  print('Output: D')\n",
        "else:\n",
        "  print('Output: Fail')\n"
      ],
      "execution_count": null,
      "outputs": [
        {
          "output_type": "stream",
          "text": [
            "Input:74\n",
            "Output: A-\n"
          ],
          "name": "stdout"
        }
      ]
    },
    {
      "cell_type": "code",
      "metadata": {
        "id": "Z7JjXPXRYUaM",
        "colab_type": "code",
        "colab": {
          "base_uri": "https://localhost:8080/",
          "height": 151
        },
        "outputId": "d33bff8b-ceda-4b2b-c503-14ef9901f782"
      },
      "source": [
        "#3\n",
        "a=eval(input('Element 1:'))\n",
        "b=eval(input('Element 2:'))\n",
        "c=eval(input('Element 3:'))\n",
        "d=eval(input('Element 4:'))\n",
        "e=eval(input('Element 5:'))\n",
        "l=[a,b,c,d,e]\n",
        "index1=int(input('Index 1:'))\n",
        "index2=int(input('Index 2:'))\n",
        "\n",
        "temp=l[index2]\n",
        "l[index2]=l[index1]\n",
        "l[index1]=temp\n",
        "\n",
        "\n",
        "print('Output;',l)"
      ],
      "execution_count": null,
      "outputs": [
        {
          "output_type": "stream",
          "text": [
            "Element 1:1\n",
            "Element 2:2\n",
            "Element 3:3\n",
            "Element 4:4\n",
            "Element 5:5\n",
            "Index 1:2\n",
            "Index 2:4\n",
            "Output; [1, 2, 5, 4, 3]\n"
          ],
          "name": "stdout"
        }
      ]
    },
    {
      "cell_type": "code",
      "metadata": {
        "id": "vLRVfuNRcbRu",
        "colab_type": "code",
        "colab": {}
      },
      "source": [
        "#4\n",
        "e1={\n",
        "    'empiD': 77920,\n",
        "    'lastname':'Jackson',\n",
        "    'firstname':'Stephen',\n",
        "    'hiredate':'11-29-1997'\n",
        "}\n",
        "\n",
        "e2={\n",
        "    'empiD': 77921,\n",
        "    'lastname':'Raynolds',\n",
        "    'firstname':'Sandy',\n",
        "    'hiredate':'1-04-1993'\n",
        "}\n",
        "\n",
        "e3={\n",
        "    'empiD': 77922,\n",
        "    'lastname':'Armstrong',\n",
        "    'firstname':'Stephon',\n",
        "    'hiredate':'9-16-1989'\n",
        "}\n",
        "\n",
        "e4={\n",
        "    'empiD': 77923,\n",
        "    'lastname':'Jackson',\n",
        "    'firstname':'Linda',\n",
        "    'hiredate':'10-9-1996'\n",
        "}"
      ],
      "execution_count": null,
      "outputs": []
    },
    {
      "cell_type": "code",
      "metadata": {
        "id": "S2kVGCEae_-S",
        "colab_type": "code",
        "colab": {
          "base_uri": "https://localhost:8080/",
          "height": 34
        },
        "outputId": "f58e36f6-6b70-475f-b2aa-8db05e50fa5c"
      },
      "source": [
        "Empolyees={\n",
        "    1:e1,\n",
        "    2:e2,\n",
        "    3:e3,\n",
        "    4:e4\n",
        "\n",
        "}\n",
        "print(Empolyees[1],)"
      ],
      "execution_count": null,
      "outputs": [
        {
          "output_type": "stream",
          "text": [
            "{'empiD': 77920, 'lastname': 'Jackson', 'firstname': 'Stephen', 'hiredate': '11-29-1997'}\n"
          ],
          "name": "stdout"
        }
      ]
    }
  ]
}